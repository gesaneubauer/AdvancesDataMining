{
  "nbformat": 4,
  "nbformat_minor": 0,
  "metadata": {
    "colab": {
      "provenance": [],
      "authorship_tag": "ABX9TyMFz5E/wxtq/jhKYZL6UU9c",
      "include_colab_link": true
    },
    "kernelspec": {
      "name": "python3",
      "display_name": "Python 3"
    },
    "language_info": {
      "name": "python"
    }
  },
  "cells": [
    {
      "cell_type": "markdown",
      "metadata": {
        "id": "view-in-github",
        "colab_type": "text"
      },
      "source": [
        "<a href=\"https://colab.research.google.com/github/gesaneubauer/AdvancesDataMining/blob/main/main.ipynb\" target=\"_parent\"><img src=\"https://colab.research.google.com/assets/colab-badge.svg\" alt=\"Open In Colab\"/></a>"
      ]
    },
    {
      "cell_type": "code",
      "source": [
        "from google.colab import files, drive\n",
        "import numpy as np\n",
        "import pandas as pd\n",
        "import argparse\n",
        "\n",
        "\n",
        "def load_data():\n",
        "    drive.mount('/content/drive')\n",
        "    file_path = '/content/drive/My Drive/user_movie_rating.npy'\n",
        "    data = np.load(file_path)\n",
        "    return data\n",
        "\n",
        "data = load_data()"
      ],
      "metadata": {
        "id": "W6SIm6sL8tqI",
        "colab": {
          "base_uri": "https://localhost:8080/"
        },
        "outputId": "33296b7d-509f-4452-80ad-0ad184995473"
      },
      "execution_count": 6,
      "outputs": [
        {
          "output_type": "stream",
          "name": "stdout",
          "text": [
            "Drive already mounted at /content/drive; to attempt to forcibly remount, call drive.mount(\"/content/drive\", force_remount=True).\n"
          ]
        }
      ]
    },
    {
      "cell_type": "code",
      "source": [
        "print(data[:])"
      ],
      "metadata": {
        "colab": {
          "base_uri": "https://localhost:8080/"
        },
        "id": "y5X2XKxVlJfk",
        "outputId": "b8ebef87-a878-4f7b-e8b2-3da1c05363b1"
      },
      "execution_count": 7,
      "outputs": [
        {
          "output_type": "stream",
          "name": "stdout",
          "text": [
            "[[     1     30      3]\n",
            " [     1    157      3]\n",
            " [     1    173      4]\n",
            " ...\n",
            " [103703  17622      2]\n",
            " [103703  17627      4]\n",
            " [103703  17764      4]]\n"
          ]
        }
      ]
    },
    {
      "cell_type": "code",
      "source": [
        "def main(file_path, seed, similarity_measure):\n",
        "    # Set the random seed for reproducibility\n",
        "    np.random.seed(seed)\n",
        "\n",
        "    # Load the data from the specified file\n",
        "    data = load_data(file_path)\n",
        "\n",
        "    # Preprocess the data to get it into the required format\n",
        "    processed_data = preprocess_data(data)\n",
        "\n",
        "    # Initialize the LSH algorithm based on the chosen similarity measure\n",
        "    if similarity_measure == 'cs':\n",
        "        # Initialize LSH for Cosine\n",
        "        pass\n",
        "    elif similarity_measure == 'js':\n",
        "        # Initialize LSH for Jaccard Similarity\n",
        "        pass\n",
        "    elif similarity_measure == 'dcs':\n",
        "        # Initialize LSH for Discrete Cosine Similarity\n",
        "        pass\n",
        "    else:\n",
        "        raise ValueError(\"Invalid similarity measure. Choose 'cs', 'js', or 'dcs'.\")\n",
        "\n",
        "    # Fit the LSH model and find similar pairs\n",
        "    lsh.fit(processed_data)\n",
        "    similar_pairs = lsh.find_similar_pairs()\n",
        "\n",
        "    # Output results\n",
        "    output_file = f'{similarity_measure}.txt'\n",
        "    with open(output_file, 'w') as f:\n",
        "        for pair in similar_pairs:\n",
        "            f.write(f'{pair[0]}, {pair[1]}\\n')\n",
        "\n",
        "if __name__ == \"__main__\":\n",
        "    parser = argparse.ArgumentParser(description=\"LSH for finding similar user pairs\")\n",
        "    parser.add_argument('-d', '--data', required=True, help=\"Path to data file\")\n",
        "    parser.add_argument('-s', '--seed', type=int, default=17, help=\"Random seed\")\n",
        "    parser.add_argument('-m', '--measure', required=True, choices=['cs', 'js', 'dcs'], help=\"Similarity measure (cs, js, dcs)\")\n",
        "    args = parser.parse_args()\n",
        "\n",
        "    main(args.data, args.seed, args.measure)\n"
      ],
      "metadata": {
        "colab": {
          "base_uri": "https://localhost:8080/",
          "height": 213
        },
        "id": "LlTDBFfPr2c_",
        "outputId": "29ac1f89-f37d-4e89-e6a4-90f68dca9805"
      },
      "execution_count": 12,
      "outputs": [
        {
          "output_type": "stream",
          "name": "stderr",
          "text": [
            "usage: colab_kernel_launcher.py [-h] -d DATA [-s SEED] -m {cs,js,dcs}\n",
            "colab_kernel_launcher.py: error: the following arguments are required: -d/--data, -m/--measure\n"
          ]
        },
        {
          "output_type": "error",
          "ename": "SystemExit",
          "evalue": "ignored",
          "traceback": [
            "An exception has occurred, use %tb to see the full traceback.\n",
            "\u001b[0;31mSystemExit\u001b[0m\u001b[0;31m:\u001b[0m 2\n"
          ]
        },
        {
          "output_type": "stream",
          "name": "stderr",
          "text": [
            "/usr/local/lib/python3.10/dist-packages/IPython/core/interactiveshell.py:3561: UserWarning: To exit: use 'exit', 'quit', or Ctrl-D.\n",
            "  warn(\"To exit: use 'exit', 'quit', or Ctrl-D.\", stacklevel=1)\n"
          ]
        }
      ]
    }
  ]
}