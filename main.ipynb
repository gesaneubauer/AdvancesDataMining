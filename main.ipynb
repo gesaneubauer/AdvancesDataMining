{
  "nbformat": 4,
  "nbformat_minor": 0,
  "metadata": {
    "colab": {
      "provenance": [],
      "authorship_tag": "ABX9TyMFz5E/wxtq/jhKYZL6UU9c",
      "include_colab_link": true
    },
    "kernelspec": {
      "name": "python3",
      "display_name": "Python 3"
    },
    "language_info": {
      "name": "python"
    }
  },
  "cells": [
    {
      "cell_type": "markdown",
      "metadata": {
        "id": "view-in-github",
        "colab_type": "text"
      },
      "source": [
        "<a href=\"https://colab.research.google.com/github/gesaneubauer/AdvancesDataMining/blob/main/main.ipynb\" target=\"_parent\"><img src=\"https://colab.research.google.com/assets/colab-badge.svg\" alt=\"Open In Colab\"/></a>"
      ]
    },
    {
      "cell_type": "code",
      "source": [
        "from google.colab import files, drive\n",
        "import numpy as np\n",
        "import pandas as pd\n",
        "import argparse\n",
        "\n",
        "\n",
        "def load_data():\n",
        "    drive.mount('/content/drive')\n",
        "    file_path = '/content/drive/My Drive/user_movie_rating.npy'\n",
        "    data = np.load(file_path)\n",
        "    return data\n",
        "\n",
        "data = load_data()"
      ],
      "metadata": {
        "id": "W6SIm6sL8tqI",
        "outputId": "59107598-93f8-4cb6-fcb4-9e3d779ea0a5",
        "colab": {
          "base_uri": "https://localhost:8080/"
        }
      },
      "execution_count": null,
      "outputs": [
        {
          "output_type": "stream",
          "name": "stdout",
          "text": [
            "Drive already mounted at /content/drive; to attempt to forcibly remount, call drive.mount(\"/content/drive\", force_remount=True).\n"
          ]
        }
      ]
    },
    {
      "cell_type": "code",
      "source": [
        "print(data[:])"
      ],
      "metadata": {
        "id": "y5X2XKxVlJfk",
        "outputId": "0acb906c-c026-4798-e71e-e6ff84405cfe",
        "colab": {
          "base_uri": "https://localhost:8080/"
        }
      },
      "execution_count": 16,
      "outputs": [
        {
          "output_type": "stream",
          "name": "stdout",
          "text": [
            "[[     1     30      3]\n",
            " [     1    157      3]\n",
            " [     1    173      4]\n",
            " ...\n",
            " [103703  17622      2]\n",
            " [103703  17627      4]\n",
            " [103703  17764      4]]\n"
          ]
        }
      ]
    },
    {
      "cell_type": "code",
      "source": [
        "def main(file_path, seed, similarity_measure):\n",
        "    # Set the random seed for reproducibility\n",
        "    np.random.seed(seed)\n",
        "\n",
        "    # Load the data from the specified file\n",
        "    data = load_data(file_path)\n",
        "\n",
        "    # Preprocess the data to get it into the required format\n",
        "    processed_data = preprocess_data(data)\n",
        "\n",
        "    # Initialize the LSH algorithm based on the chosen similarity measure\n",
        "    if similarity_measure == 'cs':\n",
        "        # Initialize LSH for Cosine\n",
        "        pass\n",
        "    elif similarity_measure == 'js':\n",
        "        # Initialize LSH for Jaccard Similarity\n",
        "        pass\n",
        "    elif similarity_measure == 'dcs':\n",
        "        # Initialize LSH for Discrete Cosine Similarity\n",
        "        pass\n",
        "    else:\n",
        "        raise ValueError(\"Invalid similarity measure. Choose 'cs', 'js', or 'dcs'.\")\n",
        "\n",
        "    # Fit the LSH model and find similar pairs\n",
        "    lsh.fit(processed_data)\n",
        "    similar_pairs = lsh.find_similar_pairs()\n",
        "\n",
        "    # Output results\n",
        "    output_file = f'{similarity_measure}.txt'\n",
        "    with open(output_file, 'w') as f:\n",
        "        for pair in similar_pairs:\n",
        "            f.write(f'{pair[0]}, {pair[1]}\\n')\n",
        "\n",
        "if __name__ == \"__main__\":\n",
        "    parser = argparse.ArgumentParser(description=\"LSH for finding similar user pairs\")\n",
        "    parser.add_argument('-d', '--data', required=True, help=\"Path to data file\")\n",
        "    parser.add_argument('-s', '--seed', type=int, default=17, help=\"Random seed\")\n",
        "    parser.add_argument('-m', '--measure', required=True, choices=['cs', 'js', 'dcs'], help=\"Similarity measure (cs, js, dcs)\")\n",
        "    args = parser.parse_args()\n",
        "\n",
        "    main(args.data, args.seed, args.measure)\n"
      ],
      "metadata": {
        "id": "LlTDBFfPr2c_",
        "outputId": "2caa96b7-3de3-465e-d43a-21fbe7c64f91",
        "colab": {
          "base_uri": "https://localhost:8080/",
          "height": 384
        }
      },
      "execution_count": 2,
      "outputs": [
        {
          "output_type": "error",
          "ename": "ModuleNotFoundError",
          "evalue": "ignored",
          "traceback": [
            "\u001b[0;31m---------------------------------------------------------------------------\u001b[0m",
            "\u001b[0;31mModuleNotFoundError\u001b[0m                       Traceback (most recent call last)",
            "\u001b[0;32m<ipython-input-2-cba06faff562>\u001b[0m in \u001b[0;36m<cell line: 2>\u001b[0;34m()\u001b[0m\n\u001b[1;32m      1\u001b[0m \u001b[0;32mimport\u001b[0m \u001b[0margparse\u001b[0m\u001b[0;34m\u001b[0m\u001b[0;34m\u001b[0m\u001b[0m\n\u001b[0;32m----> 2\u001b[0;31m \u001b[0;32mfrom\u001b[0m \u001b[0mdata_loader\u001b[0m \u001b[0;32mimport\u001b[0m \u001b[0mload_data\u001b[0m\u001b[0;34m\u001b[0m\u001b[0;34m\u001b[0m\u001b[0m\n\u001b[0m\u001b[1;32m      3\u001b[0m \u001b[0;32mfrom\u001b[0m \u001b[0mpreprocessing\u001b[0m \u001b[0;32mimport\u001b[0m \u001b[0mpreprocess_data\u001b[0m\u001b[0;34m\u001b[0m\u001b[0;34m\u001b[0m\u001b[0m\n\u001b[1;32m      4\u001b[0m \u001b[0;32mfrom\u001b[0m \u001b[0mlsh\u001b[0m \u001b[0;32mimport\u001b[0m \u001b[0mLSHCosine\u001b[0m\u001b[0;34m\u001b[0m\u001b[0;34m\u001b[0m\u001b[0m\n\u001b[1;32m      5\u001b[0m \u001b[0;34m\u001b[0m\u001b[0m\n",
            "\u001b[0;31mModuleNotFoundError\u001b[0m: No module named 'data_loader'",
            "",
            "\u001b[0;31m---------------------------------------------------------------------------\u001b[0;32m\nNOTE: If your import is failing due to a missing package, you can\nmanually install dependencies using either !pip or !apt.\n\nTo view examples of installing some common dependencies, click the\n\"Open Examples\" button below.\n\u001b[0;31m---------------------------------------------------------------------------\u001b[0m\n"
          ],
          "errorDetails": {
            "actions": [
              {
                "action": "open_url",
                "actionText": "Open Examples",
                "url": "/notebooks/snippets/importing_libraries.ipynb"
              }
            ]
          }
        }
      ]
    }
  ]
}