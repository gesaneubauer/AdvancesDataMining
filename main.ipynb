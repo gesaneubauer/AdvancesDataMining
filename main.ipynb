{
  "nbformat": 4,
  "nbformat_minor": 0,
  "metadata": {
    "colab": {
      "provenance": [],
      "authorship_tag": "ABX9TyPvz7kGWzhn4g3BREPTj2bh",
      "include_colab_link": true
    },
    "kernelspec": {
      "name": "python3",
      "display_name": "Python 3"
    },
    "language_info": {
      "name": "python"
    }
  },
  "cells": [
    {
      "cell_type": "markdown",
      "metadata": {
        "id": "view-in-github",
        "colab_type": "text"
      },
      "source": [
        "<a href=\"https://colab.research.google.com/github/gesaneubauer/AdvancesDataMining/blob/main/main.ipynb\" target=\"_parent\"><img src=\"https://colab.research.google.com/assets/colab-badge.svg\" alt=\"Open In Colab\"/></a>"
      ]
    },
    {
      "cell_type": "code",
      "source": [
        "from google.colab import files\n",
        "\n",
        "# Upload your file\n",
        "uploaded = files.upload()\n",
        "\n",
        "# Set the file name\n",
        "file_path = \"your_data_file.csv\""
      ],
      "metadata": {
        "id": "W6SIm6sL8tqI"
      },
      "execution_count": null,
      "outputs": []
    },
    {
      "cell_type": "code",
      "source": [
        "import sys\n",
        "\n",
        "# Clear any existing arguments and set the script name\n",
        "sys.argv = ['main.py']\n",
        "\n",
        "# Add your arguments\n",
        "sys.argv.append('-d')\n",
        "sys.argv.append('/path/to/your/datafile.csv')  # Replace with your path\n",
        "sys.argv.append('-s')\n",
        "sys.argv.append('123')  # Replace with your random seed\n",
        "sys.argv.append('-m')\n",
        "sys.argv.append('js')  # Replace with your similarity measure\n"
      ],
      "metadata": {
        "id": "-twim-O08cMK"
      },
      "execution_count": 3,
      "outputs": []
    },
    {
      "cell_type": "code",
      "execution_count": 4,
      "metadata": {
        "colab": {
          "base_uri": "https://localhost:8080/",
          "height": 356
        },
        "id": "SVW7r_MB5Q-5",
        "outputId": "9707517e-859c-43b4-a661-151d01105ec6"
      },
      "outputs": [
        {
          "output_type": "error",
          "ename": "KeyboardInterrupt",
          "evalue": "ignored",
          "traceback": [
            "\u001b[0;31m---------------------------------------------------------------------------\u001b[0m",
            "\u001b[0;31mKeyboardInterrupt\u001b[0m                         Traceback (most recent call last)",
            "\u001b[0;32m<ipython-input-4-2176f15fe6f9>\u001b[0m in \u001b[0;36m<cell line: 73>\u001b[0;34m()\u001b[0m\n\u001b[1;32m     72\u001b[0m \u001b[0;34m\u001b[0m\u001b[0m\n\u001b[1;32m     73\u001b[0m \u001b[0;32mif\u001b[0m \u001b[0m__name__\u001b[0m \u001b[0;34m==\u001b[0m \u001b[0;34m\"__main__\"\u001b[0m\u001b[0;34m:\u001b[0m\u001b[0;34m\u001b[0m\u001b[0;34m\u001b[0m\u001b[0m\n\u001b[0;32m---> 74\u001b[0;31m     \u001b[0mmain\u001b[0m\u001b[0;34m(\u001b[0m\u001b[0;34m)\u001b[0m\u001b[0;34m\u001b[0m\u001b[0;34m\u001b[0m\u001b[0m\n\u001b[0m",
            "\u001b[0;32m<ipython-input-4-2176f15fe6f9>\u001b[0m in \u001b[0;36mmain\u001b[0;34m()\u001b[0m\n\u001b[1;32m     40\u001b[0m \u001b[0;32mdef\u001b[0m \u001b[0mmain\u001b[0m\u001b[0;34m(\u001b[0m\u001b[0;34m)\u001b[0m\u001b[0;34m:\u001b[0m\u001b[0;34m\u001b[0m\u001b[0;34m\u001b[0m\u001b[0m\n\u001b[1;32m     41\u001b[0m \u001b[0;34m\u001b[0m\u001b[0m\n\u001b[0;32m---> 42\u001b[0;31m     \u001b[0mdata_file\u001b[0m \u001b[0;34m=\u001b[0m \u001b[0minput\u001b[0m\u001b[0;34m(\u001b[0m\u001b[0;34m\"Enter the path to the data file: \"\u001b[0m\u001b[0;34m)\u001b[0m\u001b[0;34m\u001b[0m\u001b[0;34m\u001b[0m\u001b[0m\n\u001b[0m\u001b[1;32m     43\u001b[0m     \u001b[0mseed\u001b[0m \u001b[0;34m=\u001b[0m \u001b[0mint\u001b[0m\u001b[0;34m(\u001b[0m\u001b[0minput\u001b[0m\u001b[0;34m(\u001b[0m\u001b[0;34m\"Enter the random seed: \"\u001b[0m\u001b[0;34m)\u001b[0m\u001b[0;34m)\u001b[0m\u001b[0;34m\u001b[0m\u001b[0;34m\u001b[0m\u001b[0m\n\u001b[1;32m     44\u001b[0m     \u001b[0mmeasure\u001b[0m \u001b[0;34m=\u001b[0m \u001b[0minput\u001b[0m\u001b[0;34m(\u001b[0m\u001b[0;34m\"Enter the similarity measure (js, cs, dcs): \"\u001b[0m\u001b[0;34m)\u001b[0m\u001b[0;34m\u001b[0m\u001b[0;34m\u001b[0m\u001b[0m\n",
            "\u001b[0;32m/usr/local/lib/python3.10/dist-packages/ipykernel/kernelbase.py\u001b[0m in \u001b[0;36mraw_input\u001b[0;34m(self, prompt)\u001b[0m\n\u001b[1;32m    849\u001b[0m                 \u001b[0;34m\"raw_input was called, but this frontend does not support input requests.\"\u001b[0m\u001b[0;34m\u001b[0m\u001b[0;34m\u001b[0m\u001b[0m\n\u001b[1;32m    850\u001b[0m             )\n\u001b[0;32m--> 851\u001b[0;31m         return self._input_request(str(prompt),\n\u001b[0m\u001b[1;32m    852\u001b[0m             \u001b[0mself\u001b[0m\u001b[0;34m.\u001b[0m\u001b[0m_parent_ident\u001b[0m\u001b[0;34m,\u001b[0m\u001b[0;34m\u001b[0m\u001b[0;34m\u001b[0m\u001b[0m\n\u001b[1;32m    853\u001b[0m             \u001b[0mself\u001b[0m\u001b[0;34m.\u001b[0m\u001b[0m_parent_header\u001b[0m\u001b[0;34m,\u001b[0m\u001b[0;34m\u001b[0m\u001b[0;34m\u001b[0m\u001b[0m\n",
            "\u001b[0;32m/usr/local/lib/python3.10/dist-packages/ipykernel/kernelbase.py\u001b[0m in \u001b[0;36m_input_request\u001b[0;34m(self, prompt, ident, parent, password)\u001b[0m\n\u001b[1;32m    893\u001b[0m             \u001b[0;32mexcept\u001b[0m \u001b[0mKeyboardInterrupt\u001b[0m\u001b[0;34m:\u001b[0m\u001b[0;34m\u001b[0m\u001b[0;34m\u001b[0m\u001b[0m\n\u001b[1;32m    894\u001b[0m                 \u001b[0;31m# re-raise KeyboardInterrupt, to truncate traceback\u001b[0m\u001b[0;34m\u001b[0m\u001b[0;34m\u001b[0m\u001b[0m\n\u001b[0;32m--> 895\u001b[0;31m                 \u001b[0;32mraise\u001b[0m \u001b[0mKeyboardInterrupt\u001b[0m\u001b[0;34m(\u001b[0m\u001b[0;34m\"Interrupted by user\"\u001b[0m\u001b[0;34m)\u001b[0m \u001b[0;32mfrom\u001b[0m \u001b[0;32mNone\u001b[0m\u001b[0;34m\u001b[0m\u001b[0;34m\u001b[0m\u001b[0m\n\u001b[0m\u001b[1;32m    896\u001b[0m             \u001b[0;32mexcept\u001b[0m \u001b[0mException\u001b[0m \u001b[0;32mas\u001b[0m \u001b[0me\u001b[0m\u001b[0;34m:\u001b[0m\u001b[0;34m\u001b[0m\u001b[0;34m\u001b[0m\u001b[0m\n\u001b[1;32m    897\u001b[0m                 \u001b[0mself\u001b[0m\u001b[0;34m.\u001b[0m\u001b[0mlog\u001b[0m\u001b[0;34m.\u001b[0m\u001b[0mwarning\u001b[0m\u001b[0;34m(\u001b[0m\u001b[0;34m\"Invalid Message:\"\u001b[0m\u001b[0;34m,\u001b[0m \u001b[0mexc_info\u001b[0m\u001b[0;34m=\u001b[0m\u001b[0;32mTrue\u001b[0m\u001b[0;34m)\u001b[0m\u001b[0;34m\u001b[0m\u001b[0;34m\u001b[0m\u001b[0m\n",
            "\u001b[0;31mKeyboardInterrupt\u001b[0m: Interrupted by user"
          ]
        }
      ],
      "source": [
        "import argparse\n",
        "import numpy as np\n",
        "import scipy.sparse\n",
        "# Import other necessary modules here\n",
        "\n",
        "\n",
        "def load_data(file_path):\n",
        "    # Use pandas or numpy to read the CSV file\n",
        "    import pandas as pd\n",
        "    data = pd.read_csv(file_path)\n",
        "\n",
        "    # Convert the data to a suitable format, such as a sparse matrix\n",
        "    # You may need to use scipy.sparse for this\n",
        "\n",
        "    return data\n",
        "\n",
        "def calculate_similarity(user_pairs, similarity_measure):\n",
        "    # Implement the logic for calculating the specified similarity measure\n",
        "    # This will involve mathematical operations on the user vectors\n",
        "\n",
        "    return similarity_scores\n",
        "\n",
        "def find_similar_users(data, similarity_measure, threshold):\n",
        "    # Apply the LSH algorithm\n",
        "    # This involves creating hash functions, hashing user data into buckets, and then comparing users within the same bucket\n",
        "\n",
        "    # Use the calculate_similarity function to compute similarities\n",
        "\n",
        "    # Filter pairs that exceed the threshold\n",
        "\n",
        "    return filtered_user_pairs\n",
        "\n",
        "def write_output(user_pairs, output_file):\n",
        "    with open(output_file, 'w') as file:\n",
        "        for pair in user_pairs:\n",
        "            file.write(f\"{pair[0]}, {pair[1]}\\n\")\n",
        "\n",
        "\n",
        "\n",
        "def main():\n",
        "\n",
        "    data_file = input(\"Enter the path to the data file: \")\n",
        "    seed = int(input(\"Enter the random seed: \"))\n",
        "    measure = input(\"Enter the similarity measure (js, cs, dcs): \")\n",
        "\n",
        "\n",
        "    parser = argparse.ArgumentParser(description=\"LSH for finding similar Netflix users\")\n",
        "    parser.add_argument(\"-d\", \"--data\", required=True, help=\"Path to the data file\")\n",
        "    parser.add_argument(\"-s\", \"--seed\", type=int, required=True, help=\"Random seed\")\n",
        "    parser.add_argument(\"-m\", \"--measure\", choices=[\"js\", \"cs\", \"dcs\"], required=True, help=\"Similarity measure (js, cs, dcs)\")\n",
        "\n",
        "    args = parser.parse_args()\n",
        "\n",
        "    # Set random seed\n",
        "    np.random.seed(args.seed)\n",
        "\n",
        "    # Load data\n",
        "    data = load_data(args.data)\n",
        "\n",
        "    # Define similarity thresholds\n",
        "    thresholds = {\"js\": 0.5, \"cs\": 0.73, \"dcs\": 0.73}\n",
        "    threshold = thresholds[args.measure]\n",
        "\n",
        "    # Find similar users\n",
        "    similar_users = find_similar_users(data, args.measure, threshold)\n",
        "\n",
        "    # Write output to file\n",
        "    output_file = f\"{args.measure}.txt\"\n",
        "    write_output(similar_users, output_file)\n",
        "\n",
        "    print(f\"Output written to {output_file}\")\n",
        "\n",
        "if __name__ == \"__main__\":\n",
        "    main()"
      ]
    }
  ]
}